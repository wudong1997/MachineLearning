{
 "cells": [
  {
   "cell_type": "code",
   "execution_count": 19,
   "metadata": {
    "collapsed": true,
    "pycharm": {
     "name": "#%%\n"
    }
   },
   "outputs": [],
   "source": [
    "import numpy as np\n",
    "import os\n",
    "from PIL import Image\n",
    "from keras_preprocessing.image import ImageDataGenerator\n",
    "\n",
    "data = np.empty((68, 1024, 1024, 1), dtype=\"float32\")\n",
    "j = 0\n",
    "\n",
    "img_dir = 'D:/ChromeDownload/screws/archive/test/not_good_test/'\n",
    "for img in os.listdir(img_dir):\n",
    "    image = Image.open(img_dir+ img, 'r')\n",
    "    arr = np.asarray(image, dtype=\"float32\")\n",
    "    data[j, :, :, 0] = arr\n",
    "    j = j + 1"
   ]
  },
  {
   "cell_type": "code",
   "execution_count": 20,
   "outputs": [],
   "source": [
    "def add_noise(img):\n",
    "    VARIABILITY = 50\n",
    "    deviation = VARIABILITY*np.random.random()\n",
    "    noise = np.random.normal(0, deviation, img.shape)\n",
    "    img += noise\n",
    "    np.clip(img, 0., 255.)\n",
    "    return img"
   ],
   "metadata": {
    "collapsed": false,
    "pycharm": {
     "name": "#%%\n"
    }
   }
  },
  {
   "cell_type": "code",
   "execution_count": 21,
   "outputs": [],
   "source": [
    "generator = ImageDataGenerator(\n",
    "    rotation_range=30,\n",
    "    shear_range=0.1,\n",
    "    zoom_range=0.1,\n",
    "    horizontal_flip=True,\n",
    "    vertical_flip=True,\n",
    ")\n",
    "\n",
    "x_train = data\n",
    "\n",
    "k = 0\n",
    "for batch in generator.flow(\n",
    "    x_train,\n",
    "    batch_size=100,\n",
    "    save_to_dir='D:/ChromeDownload/screws/not_good_test',\n",
    "    save_prefix='good',\n",
    "    save_format='jpg'\n",
    "):\n",
    "    k += 1\n",
    "    if k >= 4:\n",
    "        break\n",
    "\n",
    "\n"
   ],
   "metadata": {
    "collapsed": false,
    "pycharm": {
     "name": "#%%\n"
    }
   }
  }
 ],
 "metadata": {
  "kernelspec": {
   "display_name": "Python 3",
   "language": "python",
   "name": "python3"
  },
  "language_info": {
   "codemirror_mode": {
    "name": "ipython",
    "version": 2
   },
   "file_extension": ".py",
   "mimetype": "text/x-python",
   "name": "python",
   "nbconvert_exporter": "python",
   "pygments_lexer": "ipython2",
   "version": "2.7.6"
  }
 },
 "nbformat": 4,
 "nbformat_minor": 0
}